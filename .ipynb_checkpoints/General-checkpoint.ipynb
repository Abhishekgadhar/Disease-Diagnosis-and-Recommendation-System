{
 "cells": [
  {
   "cell_type": "code",
   "execution_count": 2,
   "id": "402b6159",
   "metadata": {},
   "outputs": [
    {
     "name": "stdout",
     "output_type": "stream",
     "text": [
      "Enter the following information:\n"
     ]
    },
    {
     "ename": "ValueError",
     "evalue": "could not convert string to float: 'vomit'",
     "output_type": "error",
     "traceback": [
      "\u001b[1;31m---------------------------------------------------------------------------\u001b[0m",
      "\u001b[1;31mValueError\u001b[0m                                Traceback (most recent call last)",
      "Cell \u001b[1;32mIn[2], line 44\u001b[0m\n\u001b[0;32m     41\u001b[0m     \u001b[38;5;28mprint\u001b[39m(\u001b[38;5;124mf\u001b[39m\u001b[38;5;124m\"\u001b[39m\u001b[38;5;124mPredicted Disease: \u001b[39m\u001b[38;5;132;01m{\u001b[39;00mpredicted_disease\u001b[38;5;132;01m}\u001b[39;00m\u001b[38;5;124m\"\u001b[39m)\n\u001b[0;32m     43\u001b[0m \u001b[38;5;66;03m# Call the predict_disease function to allow the user to input attributes and get predictions\u001b[39;00m\n\u001b[1;32m---> 44\u001b[0m \u001b[43mpredict_disease\u001b[49m\u001b[43m(\u001b[49m\u001b[43m)\u001b[49m\n",
      "Cell \u001b[1;32mIn[2], line 21\u001b[0m, in \u001b[0;36mpredict_disease\u001b[1;34m()\u001b[0m\n\u001b[0;32m     19\u001b[0m \u001b[38;5;28;01mdef\u001b[39;00m \u001b[38;5;21mpredict_disease\u001b[39m():\n\u001b[0;32m     20\u001b[0m     \u001b[38;5;28mprint\u001b[39m(\u001b[38;5;124m\"\u001b[39m\u001b[38;5;124mEnter the following information:\u001b[39m\u001b[38;5;124m\"\u001b[39m)\n\u001b[1;32m---> 21\u001b[0m     temp_f \u001b[38;5;241m=\u001b[39m \u001b[38;5;28;43mfloat\u001b[39;49m\u001b[43m(\u001b[49m\u001b[38;5;28;43minput\u001b[39;49m\u001b[43m(\u001b[49m\u001b[38;5;124;43m\"\u001b[39;49m\u001b[38;5;124;43mTemperature (F): \u001b[39;49m\u001b[38;5;124;43m\"\u001b[39;49m\u001b[43m)\u001b[49m\u001b[43m)\u001b[49m\n\u001b[0;32m     22\u001b[0m     pulse_rate_bpm \u001b[38;5;241m=\u001b[39m \u001b[38;5;28mfloat\u001b[39m(\u001b[38;5;28minput\u001b[39m(\u001b[38;5;124m\"\u001b[39m\u001b[38;5;124mPulse rate (bpm): \u001b[39m\u001b[38;5;124m\"\u001b[39m))\n\u001b[0;32m     23\u001b[0m     vomiting \u001b[38;5;241m=\u001b[39m \u001b[38;5;28mint\u001b[39m(\u001b[38;5;28minput\u001b[39m(\u001b[38;5;124m\"\u001b[39m\u001b[38;5;124mVomiting (0 or 1): \u001b[39m\u001b[38;5;124m\"\u001b[39m))\n",
      "\u001b[1;31mValueError\u001b[0m: could not convert string to float: 'vomit'"
     ]
    }
   ],
   "source": [
    "import pandas as pd\n",
    "from sklearn.model_selection import train_test_split\n",
    "from sklearn.preprocessing import StandardScaler\n",
    "from sklearn.ensemble import RandomForestClassifier\n",
    "from sklearn.metrics import accuracy_score, classification_report, confusion_matrix\n",
    "\n",
    "# Load and preprocess the dataset\n",
    "dataset = pd.read_csv(\"../datasets/general.csv\")\n",
    "X = dataset.drop('Disease', axis=1)\n",
    "y = dataset['Disease']\n",
    "scaler = StandardScaler()\n",
    "X = scaler.fit_transform(X)\n",
    "\n",
    "# Train the model\n",
    "model = RandomForestClassifier(random_state=42)\n",
    "model.fit(X, y)\n",
    "\n",
    "# Function to get user input and predict the disease\n",
    "def predict_disease():\n",
    "    print(\"Enter the following information:\")\n",
    "    temp_f = float(input(\"Temperature (F): \"))\n",
    "    pulse_rate_bpm = float(input(\"Pulse rate (bpm): \"))\n",
    "    vomiting = int(input(\"Vomiting (0 or 1): \"))\n",
    "    yellowish_urine = int(input(\"Yellowish Urine (0 or 1): \"))\n",
    "    indigestion = int(input(\"Indigestion (0 or 1): \"))\n",
    "\n",
    "    # Prepare user input as a single-row DataFrame\n",
    "    user_input = pd.DataFrame({\n",
    "        'Temp (F)': [temp_f],\n",
    "        'Pulse rate (bpm)': [pulse_rate_bpm],\n",
    "        'Vomiting': [vomiting],\n",
    "        'Yellowish Urine': [yellowish_urine],\n",
    "        'Indigestion': [indigestion]\n",
    "    })\n",
    "\n",
    "    # Standardize the user input\n",
    "    user_input = scaler.transform(user_input)\n",
    "\n",
    "    # Make prediction\n",
    "    predicted_disease = model.predict(user_input)[0]\n",
    "    print(f\"Predicted Disease: {predicted_disease}\")\n",
    "\n",
    "# Call the predict_disease function to allow the user to input attributes and get predictions\n",
    "predict_disease()\n"
   ]
  },
  {
   "cell_type": "code",
   "execution_count": 3,
   "id": "c0399a3f",
   "metadata": {},
   "outputs": [
    {
     "name": "stdout",
     "output_type": "stream",
     "text": [
      "Accuracy: 0.954954954954955\n",
      "Classification Report:\n",
      "              precision    recall  f1-score   support\n",
      "\n",
      "           0       1.00      0.95      0.98        21\n",
      "           1       0.85      0.96      0.90        24\n",
      "           2       0.96      1.00      0.98        22\n",
      "           3       1.00      0.96      0.98        23\n",
      "           4       1.00      0.90      0.95        21\n",
      "\n",
      "    accuracy                           0.95       111\n",
      "   macro avg       0.96      0.95      0.96       111\n",
      "weighted avg       0.96      0.95      0.96       111\n",
      "\n",
      "Confusion Matrix:\n",
      "[[20  1  0  0  0]\n",
      " [ 0 23  1  0  0]\n",
      " [ 0  0 22  0  0]\n",
      " [ 0  1  0 22  0]\n",
      " [ 0  2  0  0 19]]\n"
     ]
    }
   ],
   "source": [
    "y_pred = model.predict(X)\n",
    "accuracy = accuracy_score(y, y_pred)\n",
    "print(f'Accuracy: {accuracy}')\n",
    "\n",
    "print('Classification Report:')\n",
    "print(classification_report(y, y_pred))\n",
    "\n",
    "print('Confusion Matrix:')\n",
    "print(confusion_matrix(y, y_pred))"
   ]
  },
  {
   "cell_type": "code",
   "execution_count": 4,
   "id": "ddb88547",
   "metadata": {},
   "outputs": [],
   "source": [
    "import pickle\n",
    "\n",
    "# Assuming 'model' is the new RandomForestClassifier model trained in the provided notebook\n",
    "with open('new_model.pkl', 'wb') as f:\n",
    "    pickle.dump(model, f)\n"
   ]
  },
  {
   "cell_type": "code",
   "execution_count": null,
   "id": "014d9a18",
   "metadata": {},
   "outputs": [],
   "source": []
  }
 ],
 "metadata": {
  "kernelspec": {
   "display_name": "Python 3 (ipykernel)",
   "language": "python",
   "name": "python3"
  },
  "language_info": {
   "codemirror_mode": {
    "name": "ipython",
    "version": 3
   },
   "file_extension": ".py",
   "mimetype": "text/x-python",
   "name": "python",
   "nbconvert_exporter": "python",
   "pygments_lexer": "ipython3",
   "version": "3.11.7"
  }
 },
 "nbformat": 4,
 "nbformat_minor": 5
}
